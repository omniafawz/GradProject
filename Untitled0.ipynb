{
  "nbformat": 4,
  "nbformat_minor": 0,
  "metadata": {
    "colab": {
      "provenance": [],
      "mount_file_id": "1dQQQF8vbuVFEUAWPqhov_4Jh9Y7wljC_",
      "authorship_tag": "ABX9TyOKHO/UFZWo1CJEkFNQRgxR",
      "include_colab_link": true
    },
    "kernelspec": {
      "name": "python3",
      "display_name": "Python 3"
    },
    "language_info": {
      "name": "python"
    },
    "gpuClass": "standard"
  },
  "cells": [
    {
      "cell_type": "markdown",
      "metadata": {
        "id": "view-in-github",
        "colab_type": "text"
      },
      "source": [
        "<a href=\"https://colab.research.google.com/github/omniafawz/GradProject/blob/main/Untitled0.ipynb\" target=\"_parent\"><img src=\"https://colab.research.google.com/assets/colab-badge.svg\" alt=\"Open In Colab\"/></a>"
      ]
    },
    {
      "cell_type": "code",
      "execution_count": null,
      "metadata": {
        "id": "1WeUQhbdMMiD"
      },
      "outputs": [],
      "source": [
        "import os\n",
        "import sys\n",
        "import numpy as np\n",
        "import warnings\n",
        "import librosa #for audio processing\n",
        "import IPython. display as ipd\n",
        "from keras.utils import np_utils\n",
        "import matplotlib. pyplot as plt\n",
        "from IPython.display import Audio\n",
        "from scipy. io import wavfile #for audio processing\n",
        "from sklearn.preprocessing import LabelEncoder\n",
        "from sklearn.model_selection import train_test_split\n",
        "from keras.layers import Dense, Dropout, Flatten, Conv1D, Input, MaxPooling1D\n",
        "from keras.models import Model\n",
        "from keras.callbacks import EarlyStopping, ModelCheckpoint\n",
        "from keras import backend as K\n",
        "K.clear_session()\n",
        "np.random.seed(1)\n",
        "\n",
        "warnings. filterwarnings(\"ignore\")\n",
        "\n",
        "sample_r = 8000\n",
        "bs = 32\n",
        "\n",
        "snapshot_folder ='weights'"
      ]
    },
    {
      "cell_type": "code",
      "source": [
        "def progressBar(value, endvalue, bar_length=20,job='Job'):\n",
        "\n",
        "    percent = float(value) / endvalue\n",
        "    arrow = '-' * int(round(percent * bar_length)-1) + '>'\n",
        "    spaces = ' ' * (bar_length - len(arrow))\n",
        "\n",
        "    sys.stdout.write(\"\\r{0} Completion: [{1}] {2}%\".format(job,arrow + spaces, int(round(percent * 100))))\n",
        "    sys.stdout.flush()"
      ],
      "metadata": {
        "id": "K9iFx-_EWDPw"
      },
      "execution_count": null,
      "outputs": []
    },
    {
      "cell_type": "code",
      "source": [
        "from google.colab import drive\n",
        "drive.mount('/content/drive')"
      ],
      "metadata": {
        "colab": {
          "base_uri": "https://localhost:8080/"
        },
        "id": "61TtiwiLWraE",
        "outputId": "4af5d388-4c1f-4c1f-bf0e-e1cd9c3a8b09"
      },
      "execution_count": null,
      "outputs": [
        {
          "output_type": "stream",
          "name": "stdout",
          "text": [
            "Drive already mounted at /content/drive; to attempt to forcibly remount, call drive.mount(\"/content/drive\", force_remount=True).\n"
          ]
        }
      ]
    },
    {
      "cell_type": "code",
      "source": [
        "train_audio_path = \"train/audio\"\n",
        "samples, sample_rate = librosa. load(train_audio_path+'yes/0a7c2a8d_nohash_0.wav' , sr = 16000)\n",
        "fig = plt. figure(figsize=(14, 8))\n",
        "ax1 = fig. add_subplot(211)\n",
        "ax1. set_title('Raw wave of ' + 'train/audio/yes/0a7c2a8d_nohash_0.wav' )\n",
        "ax1. set_xlabel('time' )\n",
        "ax1. set_ylabel('Amplitude' )\n",
        "ax1. plot(np. linspace(0, sample_rate/len(samples), sample_rate), samples)"
      ],
      "metadata": {
        "colab": {
          "base_uri": "https://localhost:8080/",
          "height": 432
        },
        "id": "P7TQjjFuXT89",
        "outputId": "e5725726-42d1-480e-b9f1-c2d0d52f7c65"
      },
      "execution_count": null,
      "outputs": [
        {
          "output_type": "error",
          "ename": "FileNotFoundError",
          "evalue": "ignored",
          "traceback": [
            "\u001b[0;31m---------------------------------------------------------------------------\u001b[0m",
            "\u001b[0;31mLibsndfileError\u001b[0m                           Traceback (most recent call last)",
            "\u001b[0;32m/usr/local/lib/python3.8/dist-packages/librosa/core/audio.py\u001b[0m in \u001b[0;36mload\u001b[0;34m(path, sr, mono, offset, duration, dtype, res_type)\u001b[0m\n\u001b[1;32m    148\u001b[0m     \u001b[0;32mtry\u001b[0m\u001b[0;34m:\u001b[0m\u001b[0;34m\u001b[0m\u001b[0;34m\u001b[0m\u001b[0m\n\u001b[0;32m--> 149\u001b[0;31m         \u001b[0;32mwith\u001b[0m \u001b[0msf\u001b[0m\u001b[0;34m.\u001b[0m\u001b[0mSoundFile\u001b[0m\u001b[0;34m(\u001b[0m\u001b[0mpath\u001b[0m\u001b[0;34m)\u001b[0m \u001b[0;32mas\u001b[0m \u001b[0msf_desc\u001b[0m\u001b[0;34m:\u001b[0m\u001b[0;34m\u001b[0m\u001b[0;34m\u001b[0m\u001b[0m\n\u001b[0m\u001b[1;32m    150\u001b[0m             \u001b[0msr_native\u001b[0m \u001b[0;34m=\u001b[0m \u001b[0msf_desc\u001b[0m\u001b[0;34m.\u001b[0m\u001b[0msamplerate\u001b[0m\u001b[0;34m\u001b[0m\u001b[0;34m\u001b[0m\u001b[0m\n",
            "\u001b[0;32m/usr/local/lib/python3.8/dist-packages/soundfile.py\u001b[0m in \u001b[0;36m__init__\u001b[0;34m(self, file, mode, samplerate, channels, subtype, endian, format, closefd)\u001b[0m\n\u001b[1;32m    657\u001b[0m                                          format, subtype, endian)\n\u001b[0;32m--> 658\u001b[0;31m         \u001b[0mself\u001b[0m\u001b[0;34m.\u001b[0m\u001b[0m_file\u001b[0m \u001b[0;34m=\u001b[0m \u001b[0mself\u001b[0m\u001b[0;34m.\u001b[0m\u001b[0m_open\u001b[0m\u001b[0;34m(\u001b[0m\u001b[0mfile\u001b[0m\u001b[0;34m,\u001b[0m \u001b[0mmode_int\u001b[0m\u001b[0;34m,\u001b[0m \u001b[0mclosefd\u001b[0m\u001b[0;34m)\u001b[0m\u001b[0;34m\u001b[0m\u001b[0;34m\u001b[0m\u001b[0m\n\u001b[0m\u001b[1;32m    659\u001b[0m         \u001b[0;32mif\u001b[0m \u001b[0mset\u001b[0m\u001b[0;34m(\u001b[0m\u001b[0mmode\u001b[0m\u001b[0;34m)\u001b[0m\u001b[0;34m.\u001b[0m\u001b[0missuperset\u001b[0m\u001b[0;34m(\u001b[0m\u001b[0;34m'r+'\u001b[0m\u001b[0;34m)\u001b[0m \u001b[0;32mand\u001b[0m \u001b[0mself\u001b[0m\u001b[0;34m.\u001b[0m\u001b[0mseekable\u001b[0m\u001b[0;34m(\u001b[0m\u001b[0;34m)\u001b[0m\u001b[0;34m:\u001b[0m\u001b[0;34m\u001b[0m\u001b[0;34m\u001b[0m\u001b[0m\n",
            "\u001b[0;32m/usr/local/lib/python3.8/dist-packages/soundfile.py\u001b[0m in \u001b[0;36m_open\u001b[0;34m(self, file, mode_int, closefd)\u001b[0m\n\u001b[1;32m   1215\u001b[0m             \u001b[0merr\u001b[0m \u001b[0;34m=\u001b[0m \u001b[0m_snd\u001b[0m\u001b[0;34m.\u001b[0m\u001b[0msf_error\u001b[0m\u001b[0;34m(\u001b[0m\u001b[0mfile_ptr\u001b[0m\u001b[0;34m)\u001b[0m\u001b[0;34m\u001b[0m\u001b[0;34m\u001b[0m\u001b[0m\n\u001b[0;32m-> 1216\u001b[0;31m             \u001b[0;32mraise\u001b[0m \u001b[0mLibsndfileError\u001b[0m\u001b[0;34m(\u001b[0m\u001b[0merr\u001b[0m\u001b[0;34m,\u001b[0m \u001b[0mprefix\u001b[0m\u001b[0;34m=\u001b[0m\u001b[0;34m\"Error opening {0!r}: \"\u001b[0m\u001b[0;34m.\u001b[0m\u001b[0mformat\u001b[0m\u001b[0;34m(\u001b[0m\u001b[0mself\u001b[0m\u001b[0;34m.\u001b[0m\u001b[0mname\u001b[0m\u001b[0;34m)\u001b[0m\u001b[0;34m)\u001b[0m\u001b[0;34m\u001b[0m\u001b[0;34m\u001b[0m\u001b[0m\n\u001b[0m\u001b[1;32m   1217\u001b[0m         \u001b[0;32mif\u001b[0m \u001b[0mmode_int\u001b[0m \u001b[0;34m==\u001b[0m \u001b[0m_snd\u001b[0m\u001b[0;34m.\u001b[0m\u001b[0mSFM_WRITE\u001b[0m\u001b[0;34m:\u001b[0m\u001b[0;34m\u001b[0m\u001b[0;34m\u001b[0m\u001b[0m\n",
            "\u001b[0;31mLibsndfileError\u001b[0m: Error opening 'train/audioyes/0a7c2a8d_nohash_0.wav': System error.",
            "\nDuring handling of the above exception, another exception occurred:\n",
            "\u001b[0;31mFileNotFoundError\u001b[0m                         Traceback (most recent call last)",
            "\u001b[0;32m<ipython-input-18-c0178d991382>\u001b[0m in \u001b[0;36m<module>\u001b[0;34m\u001b[0m\n\u001b[1;32m      1\u001b[0m \u001b[0mtrain_audio_path\u001b[0m \u001b[0;34m=\u001b[0m \u001b[0;34m\"train/audio\"\u001b[0m\u001b[0;34m\u001b[0m\u001b[0;34m\u001b[0m\u001b[0m\n\u001b[0;32m----> 2\u001b[0;31m \u001b[0msamples\u001b[0m\u001b[0;34m,\u001b[0m \u001b[0msample_rate\u001b[0m \u001b[0;34m=\u001b[0m \u001b[0mlibrosa\u001b[0m\u001b[0;34m.\u001b[0m \u001b[0mload\u001b[0m\u001b[0;34m(\u001b[0m\u001b[0mtrain_audio_path\u001b[0m\u001b[0;34m+\u001b[0m\u001b[0;34m'yes/0a7c2a8d_nohash_0.wav'\u001b[0m \u001b[0;34m,\u001b[0m \u001b[0msr\u001b[0m \u001b[0;34m=\u001b[0m \u001b[0;36m16000\u001b[0m\u001b[0;34m)\u001b[0m\u001b[0;34m\u001b[0m\u001b[0;34m\u001b[0m\u001b[0m\n\u001b[0m\u001b[1;32m      3\u001b[0m \u001b[0mfig\u001b[0m \u001b[0;34m=\u001b[0m \u001b[0mplt\u001b[0m\u001b[0;34m.\u001b[0m \u001b[0mfigure\u001b[0m\u001b[0;34m(\u001b[0m\u001b[0mfigsize\u001b[0m\u001b[0;34m=\u001b[0m\u001b[0;34m(\u001b[0m\u001b[0;36m14\u001b[0m\u001b[0;34m,\u001b[0m \u001b[0;36m8\u001b[0m\u001b[0;34m)\u001b[0m\u001b[0;34m)\u001b[0m\u001b[0;34m\u001b[0m\u001b[0;34m\u001b[0m\u001b[0m\n\u001b[1;32m      4\u001b[0m \u001b[0max1\u001b[0m \u001b[0;34m=\u001b[0m \u001b[0mfig\u001b[0m\u001b[0;34m.\u001b[0m \u001b[0madd_subplot\u001b[0m\u001b[0;34m(\u001b[0m\u001b[0;36m211\u001b[0m\u001b[0;34m)\u001b[0m\u001b[0;34m\u001b[0m\u001b[0;34m\u001b[0m\u001b[0m\n\u001b[1;32m      5\u001b[0m \u001b[0max1\u001b[0m\u001b[0;34m.\u001b[0m \u001b[0mset_title\u001b[0m\u001b[0;34m(\u001b[0m\u001b[0;34m'Raw wave of '\u001b[0m \u001b[0;34m+\u001b[0m \u001b[0;34m'train/audio/yes/0a7c2a8d_nohash_0.wav'\u001b[0m \u001b[0;34m)\u001b[0m\u001b[0;34m\u001b[0m\u001b[0;34m\u001b[0m\u001b[0m\n",
            "\u001b[0;32m/usr/local/lib/python3.8/dist-packages/librosa/core/audio.py\u001b[0m in \u001b[0;36mload\u001b[0;34m(path, sr, mono, offset, duration, dtype, res_type)\u001b[0m\n\u001b[1;32m    164\u001b[0m         \u001b[0;32mif\u001b[0m \u001b[0misinstance\u001b[0m\u001b[0;34m(\u001b[0m\u001b[0mpath\u001b[0m\u001b[0;34m,\u001b[0m \u001b[0;34m(\u001b[0m\u001b[0mstr\u001b[0m\u001b[0;34m,\u001b[0m \u001b[0mpathlib\u001b[0m\u001b[0;34m.\u001b[0m\u001b[0mPurePath\u001b[0m\u001b[0;34m)\u001b[0m\u001b[0;34m)\u001b[0m\u001b[0;34m:\u001b[0m\u001b[0;34m\u001b[0m\u001b[0;34m\u001b[0m\u001b[0m\n\u001b[1;32m    165\u001b[0m             \u001b[0mwarnings\u001b[0m\u001b[0;34m.\u001b[0m\u001b[0mwarn\u001b[0m\u001b[0;34m(\u001b[0m\u001b[0;34m\"PySoundFile failed. Trying audioread instead.\"\u001b[0m\u001b[0;34m)\u001b[0m\u001b[0;34m\u001b[0m\u001b[0;34m\u001b[0m\u001b[0m\n\u001b[0;32m--> 166\u001b[0;31m             \u001b[0my\u001b[0m\u001b[0;34m,\u001b[0m \u001b[0msr_native\u001b[0m \u001b[0;34m=\u001b[0m \u001b[0m__audioread_load\u001b[0m\u001b[0;34m(\u001b[0m\u001b[0mpath\u001b[0m\u001b[0;34m,\u001b[0m \u001b[0moffset\u001b[0m\u001b[0;34m,\u001b[0m \u001b[0mduration\u001b[0m\u001b[0;34m,\u001b[0m \u001b[0mdtype\u001b[0m\u001b[0;34m)\u001b[0m\u001b[0;34m\u001b[0m\u001b[0;34m\u001b[0m\u001b[0m\n\u001b[0m\u001b[1;32m    167\u001b[0m         \u001b[0;32melse\u001b[0m\u001b[0;34m:\u001b[0m\u001b[0;34m\u001b[0m\u001b[0;34m\u001b[0m\u001b[0m\n\u001b[1;32m    168\u001b[0m             \u001b[0;32mraise\u001b[0m \u001b[0;34m(\u001b[0m\u001b[0mexc\u001b[0m\u001b[0;34m)\u001b[0m\u001b[0;34m\u001b[0m\u001b[0;34m\u001b[0m\u001b[0m\n",
            "\u001b[0;32m/usr/local/lib/python3.8/dist-packages/librosa/core/audio.py\u001b[0m in \u001b[0;36m__audioread_load\u001b[0;34m(path, offset, duration, dtype)\u001b[0m\n\u001b[1;32m    188\u001b[0m \u001b[0;34m\u001b[0m\u001b[0m\n\u001b[1;32m    189\u001b[0m     \u001b[0my\u001b[0m \u001b[0;34m=\u001b[0m \u001b[0;34m[\u001b[0m\u001b[0;34m]\u001b[0m\u001b[0;34m\u001b[0m\u001b[0;34m\u001b[0m\u001b[0m\n\u001b[0;32m--> 190\u001b[0;31m     \u001b[0;32mwith\u001b[0m \u001b[0maudioread\u001b[0m\u001b[0;34m.\u001b[0m\u001b[0maudio_open\u001b[0m\u001b[0;34m(\u001b[0m\u001b[0mpath\u001b[0m\u001b[0;34m)\u001b[0m \u001b[0;32mas\u001b[0m \u001b[0minput_file\u001b[0m\u001b[0;34m:\u001b[0m\u001b[0;34m\u001b[0m\u001b[0;34m\u001b[0m\u001b[0m\n\u001b[0m\u001b[1;32m    191\u001b[0m         \u001b[0msr_native\u001b[0m \u001b[0;34m=\u001b[0m \u001b[0minput_file\u001b[0m\u001b[0;34m.\u001b[0m\u001b[0msamplerate\u001b[0m\u001b[0;34m\u001b[0m\u001b[0;34m\u001b[0m\u001b[0m\n\u001b[1;32m    192\u001b[0m         \u001b[0mn_channels\u001b[0m \u001b[0;34m=\u001b[0m \u001b[0minput_file\u001b[0m\u001b[0;34m.\u001b[0m\u001b[0mchannels\u001b[0m\u001b[0;34m\u001b[0m\u001b[0;34m\u001b[0m\u001b[0m\n",
            "\u001b[0;32m/usr/local/lib/python3.8/dist-packages/audioread/__init__.py\u001b[0m in \u001b[0;36maudio_open\u001b[0;34m(path, backends)\u001b[0m\n\u001b[1;32m    125\u001b[0m     \u001b[0;32mfor\u001b[0m \u001b[0mBackendClass\u001b[0m \u001b[0;32min\u001b[0m \u001b[0mbackends\u001b[0m\u001b[0;34m:\u001b[0m\u001b[0;34m\u001b[0m\u001b[0;34m\u001b[0m\u001b[0m\n\u001b[1;32m    126\u001b[0m         \u001b[0;32mtry\u001b[0m\u001b[0;34m:\u001b[0m\u001b[0;34m\u001b[0m\u001b[0;34m\u001b[0m\u001b[0m\n\u001b[0;32m--> 127\u001b[0;31m             \u001b[0;32mreturn\u001b[0m \u001b[0mBackendClass\u001b[0m\u001b[0;34m(\u001b[0m\u001b[0mpath\u001b[0m\u001b[0;34m)\u001b[0m\u001b[0;34m\u001b[0m\u001b[0;34m\u001b[0m\u001b[0m\n\u001b[0m\u001b[1;32m    128\u001b[0m         \u001b[0;32mexcept\u001b[0m \u001b[0mDecodeError\u001b[0m\u001b[0;34m:\u001b[0m\u001b[0;34m\u001b[0m\u001b[0;34m\u001b[0m\u001b[0m\n\u001b[1;32m    129\u001b[0m             \u001b[0;32mpass\u001b[0m\u001b[0;34m\u001b[0m\u001b[0;34m\u001b[0m\u001b[0m\n",
            "\u001b[0;32m/usr/local/lib/python3.8/dist-packages/audioread/rawread.py\u001b[0m in \u001b[0;36m__init__\u001b[0;34m(self, filename)\u001b[0m\n\u001b[1;32m     57\u001b[0m     \"\"\"\n\u001b[1;32m     58\u001b[0m     \u001b[0;32mdef\u001b[0m \u001b[0m__init__\u001b[0m\u001b[0;34m(\u001b[0m\u001b[0mself\u001b[0m\u001b[0;34m,\u001b[0m \u001b[0mfilename\u001b[0m\u001b[0;34m)\u001b[0m\u001b[0;34m:\u001b[0m\u001b[0;34m\u001b[0m\u001b[0;34m\u001b[0m\u001b[0m\n\u001b[0;32m---> 59\u001b[0;31m         \u001b[0mself\u001b[0m\u001b[0;34m.\u001b[0m\u001b[0m_fh\u001b[0m \u001b[0;34m=\u001b[0m \u001b[0mopen\u001b[0m\u001b[0;34m(\u001b[0m\u001b[0mfilename\u001b[0m\u001b[0;34m,\u001b[0m \u001b[0;34m'rb'\u001b[0m\u001b[0;34m)\u001b[0m\u001b[0;34m\u001b[0m\u001b[0;34m\u001b[0m\u001b[0m\n\u001b[0m\u001b[1;32m     60\u001b[0m \u001b[0;34m\u001b[0m\u001b[0m\n\u001b[1;32m     61\u001b[0m         \u001b[0;32mtry\u001b[0m\u001b[0;34m:\u001b[0m\u001b[0;34m\u001b[0m\u001b[0;34m\u001b[0m\u001b[0m\n",
            "\u001b[0;31mFileNotFoundError\u001b[0m: [Errno 2] No such file or directory: 'train/audioyes/0a7c2a8d_nohash_0.wav'"
          ]
        }
      ]
    },
    {
      "cell_type": "code",
      "source": [
        "def make_model():\n",
        "    inputs = Input(shape=(sample_r,1))\n",
        "\n",
        "    #First Conv1D layer\n",
        "    conv = Conv1D(8,13, padding='valid', activation='relu', strides=1)(inputs)\n",
        "    conv = MaxPooling1D(3)(conv)\n",
        "    conv = Dropout(0.3)(conv)\n",
        "\n",
        "    #Second Conv1D layer\n",
        "    conv = Conv1D(16, 11, padding='valid', activation='relu', strides=1)(conv)\n",
        "    conv = MaxPooling1D(3)(conv)\n",
        "    conv = Dropout(0.3)(conv)\n",
        "\n",
        "    #Third Conv1D layer\n",
        "    conv = Conv1D(32, 9, padding='valid', activation='relu', strides=1)(conv)\n",
        "    conv = MaxPooling1D(3)(conv)\n",
        "    conv = Dropout(0.3)(conv)\n",
        "\n",
        "    #Fourth Conv1D layer\n",
        "    conv = Conv1D(64, 7, padding='valid', activation='relu', strides=1)(conv)\n",
        "    conv = MaxPooling1D(3)(conv)\n",
        "    conv = Dropout(0.3)(conv)\n",
        "\n",
        "    #Flatten layer\n",
        "    conv = Flatten()(conv)\n",
        "\n",
        "    #Dense Layer 1\n",
        "    conv = Dense(256, activation='relu')(conv)\n",
        "    conv = Dropout(0.3)(conv)\n",
        "\n",
        "    #Dense Layer 2\n",
        "    conv = Dense(128, activation='relu')(conv)\n",
        "    conv = Dropout(0.3)(conv)\n",
        "\n",
        "    outputs = Dense(len(labels), activation='softmax')(conv)\n",
        "\n",
        "    model = Model(inputs, outputs)\n",
        "    model.summary()\n",
        "    return model"
      ],
      "metadata": {
        "id": "V9CaLhuMsckE"
      },
      "execution_count": null,
      "outputs": []
    },
    {
      "cell_type": "code",
      "source": [
        "model = make_model()\n",
        "model.compile(loss='categorical_crossentropy',optimizer='adam',metrics=['accuracy'])"
      ],
      "metadata": {
        "id": "IUO8RJPUs2lt"
      },
      "execution_count": null,
      "outputs": []
    },
    {
      "cell_type": "code",
      "source": [
        "es = EarlyStopping(monitor='val_loss', mode='min', verbose=1, patience=30, min_delta=0.0001) \n",
        "mc = ModelCheckpoint(snapshot_folder+'/best_model.hdf5', monitor='val_acc', verbose=1, save_best_only=True, mode='max')"
      ],
      "metadata": {
        "id": "__bo0JeMs6kT"
      },
      "execution_count": null,
      "outputs": []
    },
    {
      "cell_type": "code",
      "source": [
        "history= model.fit(x_tr, y_tr ,epochs=100, callbacks=[es,mc], batch_size=bs, validation_data=(x_val,y_val))"
      ],
      "metadata": {
        "id": "zyo9LVg1tCtg"
      },
      "execution_count": null,
      "outputs": []
    },
    {
      "cell_type": "code",
      "source": [
        "from matplotlib import pyplot as plt\n",
        "plt.plot(history.history['loss'], label='train') \n",
        "plt.plot(history.history['val_loss'], label='test') \n",
        "plt.legend() \n",
        "plt.show()"
      ],
      "metadata": {
        "id": "9faUKcXvtNRz"
      },
      "execution_count": null,
      "outputs": []
    },
    {
      "cell_type": "code",
      "source": [
        "def predict(audio):\n",
        "    prob=model.predict(audio.reshape(1,sample_r,1))\n",
        "    index=np.argmax(prob[0])\n",
        "    return classes[index]"
      ],
      "metadata": {
        "id": "mfKVRqjstNgx"
      },
      "execution_count": null,
      "outputs": []
    },
    {
      "cell_type": "code",
      "source": [],
      "metadata": {
        "id": "aUWLLDxgtWVM"
      },
      "execution_count": null,
      "outputs": []
    },
    {
      "cell_type": "code",
      "source": [
        "import sounddevice as sd\n",
        "import soundfile as sf\n",
        "\n",
        "samplerate = 16000  \n",
        "duration = 1 # seconds\n",
        "filename = 'yes.wav'\n",
        "print(\"start\")\n",
        "mydata = sd.rec(int(samplerate * duration), samplerate=samplerate,\n",
        "    channels=1, blocking=True)\n",
        "print(\"end\")\n",
        "sd.wait()\n",
        "sf.write(filename, mydata, samplerate)"
      ],
      "metadata": {
        "id": "D_Vz5Jw3taYE"
      },
      "execution_count": null,
      "outputs": []
    },
    {
      "cell_type": "code",
      "source": [
        "os.listdir('../input/voice-commands/prateek_voice_v2')\n",
        "filepath='../input/voice-commands/prateek_voice_v2'\n",
        "\n",
        "#reading the voice commands\n",
        "samples, sample_rate = librosa.load(filepath + '/' + 'stop.wav', sr = 16000)\n",
        "samples = librosa.resample(samples, sample_rate, 8000)\n",
        "ipd.Audio(samples,rate=8000)  \n",
        "\n",
        "predict(samples)"
      ],
      "metadata": {
        "id": "hVY_gNf6tefb"
      },
      "execution_count": null,
      "outputs": []
    },
    {
      "cell_type": "code",
      "source": [
        "sound_file = train_audio_path+'00f0204f_nohash_0.wav'\n",
        "Audio(sound_file)"
      ],
      "metadata": {
        "colab": {
          "base_uri": "https://localhost:8080/",
          "height": 321
        },
        "id": "K5ON1ux2Y5hY",
        "outputId": "f36ae89f-86c2-4d60-ea75-a3fafa90b888"
      },
      "execution_count": null,
      "outputs": [
        {
          "output_type": "error",
          "ename": "ValueError",
          "evalue": "ignored",
          "traceback": [
            "\u001b[0;31m---------------------------------------------------------------------------\u001b[0m",
            "\u001b[0;31mValueError\u001b[0m                                Traceback (most recent call last)",
            "\u001b[0;32m<ipython-input-11-cb7f540bf624>\u001b[0m in \u001b[0;36m<module>\u001b[0;34m\u001b[0m\n\u001b[1;32m      1\u001b[0m \u001b[0msound_file\u001b[0m \u001b[0;34m=\u001b[0m \u001b[0mtrain_audio_path\u001b[0m\u001b[0;34m+\u001b[0m\u001b[0;34m'00f0204f_nohash_0.wav'\u001b[0m\u001b[0;34m\u001b[0m\u001b[0;34m\u001b[0m\u001b[0m\n\u001b[0;32m----> 2\u001b[0;31m \u001b[0mAudio\u001b[0m\u001b[0;34m(\u001b[0m\u001b[0msound_file\u001b[0m\u001b[0;34m)\u001b[0m\u001b[0;34m\u001b[0m\u001b[0;34m\u001b[0m\u001b[0m\n\u001b[0m",
            "\u001b[0;32m/usr/local/lib/python3.8/dist-packages/IPython/lib/display.py\u001b[0m in \u001b[0;36m__init__\u001b[0;34m(self, data, filename, url, embed, rate, autoplay, normalize, element_id)\u001b[0m\n\u001b[1;32m    112\u001b[0m         \u001b[0;32mif\u001b[0m \u001b[0mself\u001b[0m\u001b[0;34m.\u001b[0m\u001b[0mdata\u001b[0m \u001b[0;32mis\u001b[0m \u001b[0;32mnot\u001b[0m \u001b[0;32mNone\u001b[0m \u001b[0;32mand\u001b[0m \u001b[0;32mnot\u001b[0m \u001b[0misinstance\u001b[0m\u001b[0;34m(\u001b[0m\u001b[0mself\u001b[0m\u001b[0;34m.\u001b[0m\u001b[0mdata\u001b[0m\u001b[0;34m,\u001b[0m \u001b[0mbytes\u001b[0m\u001b[0;34m)\u001b[0m\u001b[0;34m:\u001b[0m\u001b[0;34m\u001b[0m\u001b[0;34m\u001b[0m\u001b[0m\n\u001b[1;32m    113\u001b[0m             \u001b[0;32mif\u001b[0m \u001b[0mrate\u001b[0m \u001b[0;32mis\u001b[0m \u001b[0;32mNone\u001b[0m\u001b[0;34m:\u001b[0m\u001b[0;34m\u001b[0m\u001b[0;34m\u001b[0m\u001b[0m\n\u001b[0;32m--> 114\u001b[0;31m                 \u001b[0;32mraise\u001b[0m \u001b[0mValueError\u001b[0m\u001b[0;34m(\u001b[0m\u001b[0;34m\"rate must be specified when data is a numpy array or list of audio samples.\"\u001b[0m\u001b[0;34m)\u001b[0m\u001b[0;34m\u001b[0m\u001b[0;34m\u001b[0m\u001b[0m\n\u001b[0m\u001b[1;32m    115\u001b[0m             \u001b[0mself\u001b[0m\u001b[0;34m.\u001b[0m\u001b[0mdata\u001b[0m \u001b[0;34m=\u001b[0m \u001b[0mAudio\u001b[0m\u001b[0;34m.\u001b[0m\u001b[0m_make_wav\u001b[0m\u001b[0;34m(\u001b[0m\u001b[0mdata\u001b[0m\u001b[0;34m,\u001b[0m \u001b[0mrate\u001b[0m\u001b[0;34m,\u001b[0m \u001b[0mnormalize\u001b[0m\u001b[0;34m)\u001b[0m\u001b[0;34m\u001b[0m\u001b[0;34m\u001b[0m\u001b[0m\n\u001b[1;32m    116\u001b[0m \u001b[0;34m\u001b[0m\u001b[0m\n",
            "\u001b[0;31mValueError\u001b[0m: rate must be specified when data is a numpy array or list of audio samples."
          ]
        }
      ]
    },
    {
      "cell_type": "code",
      "source": [
        "ipd.Audio(samples, rate=sample_rate)\n",
        "print(sample_rate)"
      ],
      "metadata": {
        "colab": {
          "base_uri": "https://localhost:8080/"
        },
        "id": "rCCeG1Jc7Ysh",
        "outputId": "ff4bee1c-ef17-4d3e-adff-3d437caeca41"
      },
      "execution_count": null,
      "outputs": [
        {
          "output_type": "stream",
          "name": "stdout",
          "text": [
            "16000\n"
          ]
        }
      ]
    },
    {
      "cell_type": "code",
      "source": [
        "samples = librosa.resample(samples, sample_rate, sample_r)\n",
        "ipd.Audio(samples, rate=sample_r)"
      ],
      "metadata": {
        "colab": {
          "base_uri": "https://localhost:8080/",
          "height": 75
        },
        "id": "S9BdV_Cp93_7",
        "outputId": "d73a561e-124a-42a5-d218-ba0068964b0d"
      },
      "execution_count": null,
      "outputs": [
        {
          "output_type": "execute_result",
          "data": {
            "text/plain": [
              "<IPython.lib.display.Audio object>"
            ],
            "text/html": [
              "\n",
              "                <audio  controls=\"controls\" >\n",
              "                    <source src=\"data:audio/wav;base64,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\" type=\"audio/wav\" />\n",
              "                    Your browser does not support the audio element.\n",
              "                </audio>\n",
              "              "
            ]
          },
          "metadata": {},
          "execution_count": 10
        }
      ]
    },
    {
      "cell_type": "code",
      "source": [
        "train_audio_path = 'train/audio'\n",
        "labels=os. listdir(train_audio_path)\n",
        "#find count of each label and plot bar graph\n",
        "no_of_recordings=[]\n",
        "for label in labels:\n",
        "    waves = [ f for f in os. listdir(train_audio_path + '/' + label) if f. endswith('.wav' )]\n",
        "    no_of_recordings. append(len(waves))\n",
        "\n",
        "# ploting the class distribution\n",
        "plt. figure(figsize=(30, 5))\n",
        "index = np. arange(len(labels))\n",
        "plt. bar(index, no_of_recordings)\n",
        "plt. xlabel('Commands' , fontsize=12)\n",
        "plt. ylabel('No of recordings' , fontsize=12)\n",
        "plt. xticks(index, labels, fontsize=15, rotation=60)\n",
        "plt. title('No. of recordings for each command' )\n",
        "plt. show()\n",
        "labels=[ \"yes\", \"no\", \"up\", \"down\", \"left\", \"right\", \"on\", \"off\", \"stop\", \"go\"]"
      ],
      "metadata": {
        "colab": {
          "base_uri": "https://localhost:8080/",
          "height": 268
        },
        "id": "Sipp6IAx-CO7",
        "outputId": "9007354c-54d8-400e-febc-10adddde691c"
      },
      "execution_count": null,
      "outputs": [
        {
          "output_type": "display_data",
          "data": {
            "text/plain": [
              "<Figure size 2160x360 with 1 Axes>"
            ],
            "image/png": "[encoded data removed]"
          },
          "metadata": {
            "needs_background": "light"
          }
        }
      ]
    },
    {
      "cell_type": "code",
      "source": [
        "train_audio_path = 'train/audio/'\n",
        "duration_of_recordings=[]\n",
        "for label in labels:\n",
        "    waves = [ f for f in os. listdir(train_audio_path + '/' + label) if f. endswith('.wav' )]\n",
        "    for wav in waves:\n",
        "        sample_rate, samples = wavfile. read(train_audio_path + '/' + label + '/' + wav)\n",
        "        duration_of_recordings.append(float(len(samples) /sample_rate))\n",
        "\n",
        "len_train = len(duration_of_recordings)\n",
        "plt.title('Durations')\n",
        "plt.hist(np.array(duration_of_recordings))\n"
      ],
      "metadata": {
        "colab": {
          "base_uri": "https://localhost:8080/",
          "height": 235
        },
        "id": "D6yZgH5z4Sm-",
        "outputId": "0af860a6-07e6-40b4-a6d1-9d7506d74ff0"
      },
      "execution_count": null,
      "outputs": [
        {
          "output_type": "error",
          "ename": "NameError",
          "evalue": "ignored",
          "traceback": [
            "\u001b[0;31m---------------------------------------------------------------------------\u001b[0m",
            "\u001b[0;31mNameError\u001b[0m                                 Traceback (most recent call last)",
            "\u001b[0;32m<ipython-input-4-b0f001f5771e>\u001b[0m in \u001b[0;36m<module>\u001b[0;34m\u001b[0m\n\u001b[1;32m      1\u001b[0m \u001b[0mtrain_audio_path\u001b[0m \u001b[0;34m=\u001b[0m \u001b[0;34m'train/audio/'\u001b[0m\u001b[0;34m\u001b[0m\u001b[0;34m\u001b[0m\u001b[0m\n\u001b[1;32m      2\u001b[0m \u001b[0mduration_of_recordings\u001b[0m\u001b[0;34m=\u001b[0m\u001b[0;34m[\u001b[0m\u001b[0;34m]\u001b[0m\u001b[0;34m\u001b[0m\u001b[0;34m\u001b[0m\u001b[0m\n\u001b[0;32m----> 3\u001b[0;31m \u001b[0;32mfor\u001b[0m \u001b[0mlabel\u001b[0m \u001b[0;32min\u001b[0m \u001b[0mlabels\u001b[0m\u001b[0;34m:\u001b[0m\u001b[0;34m\u001b[0m\u001b[0;34m\u001b[0m\u001b[0m\n\u001b[0m\u001b[1;32m      4\u001b[0m     \u001b[0mwaves\u001b[0m \u001b[0;34m=\u001b[0m \u001b[0;34m[\u001b[0m \u001b[0mf\u001b[0m \u001b[0;32mfor\u001b[0m \u001b[0mf\u001b[0m \u001b[0;32min\u001b[0m \u001b[0mos\u001b[0m\u001b[0;34m.\u001b[0m \u001b[0mlistdir\u001b[0m\u001b[0;34m(\u001b[0m\u001b[0mtrain_audio_path\u001b[0m \u001b[0;34m+\u001b[0m \u001b[0;34m'/'\u001b[0m \u001b[0;34m+\u001b[0m \u001b[0mlabel\u001b[0m\u001b[0;34m)\u001b[0m \u001b[0;32mif\u001b[0m \u001b[0mf\u001b[0m\u001b[0;34m.\u001b[0m \u001b[0mendswith\u001b[0m\u001b[0;34m(\u001b[0m\u001b[0;34m'.wav'\u001b[0m \u001b[0;34m)\u001b[0m\u001b[0;34m]\u001b[0m\u001b[0;34m\u001b[0m\u001b[0;34m\u001b[0m\u001b[0m\n\u001b[1;32m      5\u001b[0m     \u001b[0;32mfor\u001b[0m \u001b[0mwav\u001b[0m \u001b[0;32min\u001b[0m \u001b[0mwaves\u001b[0m\u001b[0;34m:\u001b[0m\u001b[0;34m\u001b[0m\u001b[0;34m\u001b[0m\u001b[0m\n",
            "\u001b[0;31mNameError\u001b[0m: name 'labels' is not defined"
          ]
        }
      ]
    },
    {
      "cell_type": "code",
      "source": [],
      "metadata": {
        "id": "MbxIzv324enV"
      },
      "execution_count": null,
      "outputs": []
    },
    {
      "cell_type": "code",
      "source": [
        "train_audio_path = 'train/audio'\n",
        "labels=os. listdir(train_audio_path)\n",
        "def read_data(train_audio_path):\n",
        "    i =0 \n",
        "    all_wave = []\n",
        "    all_label = []\n",
        "    for label in labels:\n",
        "        i+=1\n",
        "        progressBar(i, len(labels), bar_length=20,job='Resampling, Removing shorter commands')\n",
        "        waves = [f for f in os.listdir(train_audio_path + '/'+ label) if f.endswith('.wav')]\n",
        "        for wav in waves:\n",
        "            samples, sample_rate = librosa.load(train_audio_path + '/' + label + '/' + wav, sr = 16000)\n",
        "            samples = librosa.resample(samples, sample_rate, sample_r)\n",
        "            if(len(samples)== sample_r) : \n",
        "                all_wave.append(samples)\n",
        "                all_label.append(label)\n",
        "                \n",
        "    return all_wave, all_label\n",
        "\n",
        "all_wave, all_label = read_data(train_audio_path)"
      ],
      "metadata": {
        "colab": {
          "base_uri": "https://localhost:8080/"
        },
        "id": "NeMxGB3Z4men",
        "outputId": "8f62f547-4ef4-431e-c225-70e82e85ec95"
      },
      "execution_count": null,
      "outputs": [
        {
          "output_type": "stream",
          "name": "stdout",
          "text": [
            "Resampling, Removing shorter commands Completion: [------------------->] 100%"
          ]
        }
      ]
    },
    {
      "cell_type": "code",
      "source": [
        "\n",
        "!cp -r /content/drive/MyDrive/ColabNotebooks/train /content\n",
        "train_audio_path = 'train/audio'\n",
        "labels=os. listdir(train_audio_path)"
      ],
      "metadata": {
        "id": "HNImCd5glXhp"
      },
      "execution_count": null,
      "outputs": []
    },
    {
      "cell_type": "code",
      "source": [
        "print(labels)"
      ],
      "metadata": {
        "colab": {
          "base_uri": "https://localhost:8080/"
        },
        "id": "ga1gjs76pHXe",
        "outputId": "fe52fcf5-ad63-4e8a-ca0e-c2d18725355e"
      },
      "execution_count": null,
      "outputs": [
        {
          "output_type": "stream",
          "name": "stdout",
          "text": [
            "['cat', 'bird', 'bed', 'dog', '.ipynb_checkpoints']\n"
          ]
        }
      ]
    },
    {
      "cell_type": "code",
      "source": [
        "x_tr, x_val, y_tr, y_val = train_test_split(np.array(all_wave),np.array(y),\n",
        "                                            stratify=y, test_size = 0.2, random_state=1, shuffle=True)"
      ],
      "metadata": {
        "id": "pBMWErLy5GGP"
      },
      "execution_count": null,
      "outputs": []
    },
    {
      "cell_type": "code",
      "source": [
        "x_tr = np.array(x_tr).reshape(-1,sample_r,1)\n",
        "x_val = np.array(x_val).reshape(-1,sample_r,1)"
      ],
      "metadata": {
        "id": "4NXNiwe85KNO"
      },
      "execution_count": null,
      "outputs": []
    },
    {
      "cell_type": "code",
      "source": [
        "y=np_utils.to_categorical(y, num_classes=len(labels))"
      ],
      "metadata": {
        "id": "74YdGdAn49t4"
      },
      "execution_count": null,
      "outputs": []
    },
    {
      "cell_type": "code",
      "source": [
        "le = LabelEncoder()\n",
        "y=le.fit_transform(all_label)\n",
        "classes= list(le.classes_)\n",
        "classes"
      ],
      "metadata": {
        "colab": {
          "base_uri": "https://localhost:8080/"
        },
        "id": "6abC9OKo15os",
        "outputId": "6b64118d-e6a2-4ed3-c9f1-1e55c3801e8f"
      },
      "execution_count": null,
      "outputs": [
        {
          "output_type": "execute_result",
          "data": {
            "text/plain": [
              "['bed', 'bird', 'cat', 'dog']"
            ]
          },
          "metadata": {},
          "execution_count": 31
        }
      ]
    },
    {
      "cell_type": "code",
      "source": [
        "y=np_utils.to_categorical(y, num_classes=len(labels))\n"
      ],
      "metadata": {
        "id": "Xzr-rL2l1-MP"
      },
      "execution_count": null,
      "outputs": []
    },
    {
      "cell_type": "code",
      "source": [
        "x_tr, x_val, y_tr, y_val = train_test_split(np.array(all_wave),np.array(y),\n",
        "                                            stratify=y, test_size = 0.2, random_state=1, shuffle=True)"
      ],
      "metadata": {
        "id": "k6ImpEG02Ega"
      },
      "execution_count": null,
      "outputs": []
    },
    {
      "cell_type": "code",
      "source": [
        "# Reshape the 2D array to 3D since the input to the conv1d must be a 3D array\n",
        "x_tr = np.array(x_tr).reshape(-1,sample_r,1)\n",
        "x_val = np.array(x_val).reshape(-1,sample_r,1)"
      ],
      "metadata": {
        "id": "k41DVlYf2KTe"
      },
      "execution_count": null,
      "outputs": []
    },
    {
      "cell_type": "code",
      "source": [
        "def make_model():\n",
        "    inputs = Input(shape=(sample_r,1))\n",
        "\n",
        "    #First Conv1D layer\n",
        "    conv = Conv1D(8,13, padding='valid', activation='relu', strides=1)(inputs)\n",
        "    conv = MaxPooling1D(3)(conv)\n",
        "    conv = Dropout(0.3)(conv)\n",
        "\n",
        "    #Second Conv1D layer\n",
        "    conv = Conv1D(16, 11, padding='valid', activation='relu', strides=1)(conv)\n",
        "    conv = MaxPooling1D(3)(conv)\n",
        "    conv = Dropout(0.3)(conv)\n",
        "\n",
        "    #Third Conv1D layer\n",
        "    conv = Conv1D(32, 9, padding='valid', activation='relu', strides=1)(conv)\n",
        "    conv = MaxPooling1D(3)(conv)\n",
        "    conv = Dropout(0.3)(conv)\n",
        "\n",
        "    #Fourth Conv1D layer\n",
        "    conv = Conv1D(64, 7, padding='valid', activation='relu', strides=1)(conv)\n",
        "    conv = MaxPooling1D(3)(conv)\n",
        "    conv = Dropout(0.3)(conv)\n",
        "\n",
        "    #Flatten layer\n",
        "    conv = Flatten()(conv)\n",
        "\n",
        "    #Dense Layer 1\n",
        "    conv = Dense(256, activation='relu')(conv)\n",
        "    conv = Dropout(0.3)(conv)\n",
        "\n",
        "    #Dense Layer 2\n",
        "    conv = Dense(128, activation='relu')(conv)\n",
        "    conv = Dropout(0.3)(conv)\n",
        "\n",
        "    outputs = Dense(len(labels), activation='softmax')(conv)\n",
        "\n",
        "    model = Model(inputs, outputs)\n",
        "    model.summary()\n",
        "    return model\n"
      ],
      "metadata": {
        "id": "9ZppeKXf2V8a"
      },
      "execution_count": null,
      "outputs": []
    },
    {
      "cell_type": "code",
      "source": [
        "model = make_model()\n",
        "model.compile(loss='categorical_crossentropy',optimizer='adam',metrics=['accuracy'])"
      ],
      "metadata": {
        "colab": {
          "base_uri": "https://localhost:8080/"
        },
        "id": "xTdbPRBG2d7v",
        "outputId": "039b2708-dce3-44bf-f7f3-f6d9839353a5"
      },
      "execution_count": null,
      "outputs": [
        {
          "output_type": "stream",
          "name": "stdout",
          "text": [
            "Model: \"model\"\n",
            "_________________________________________________________________\n",
            " Layer (type)                Output Shape              Param #   \n",
            "=================================================================\n",
            " input_1 (InputLayer)        [(None, 8000, 1)]         0         \n",
            "                                                                 \n",
            " conv1d (Conv1D)             (None, 7988, 8)           112       \n",
            "                                                                 \n",
            " max_pooling1d (MaxPooling1D  (None, 2662, 8)          0         \n",
            " )                                                               \n",
            "                                                                 \n",
            " dropout (Dropout)           (None, 2662, 8)           0         \n",
            "                                                                 \n",
            " conv1d_1 (Conv1D)           (None, 2652, 16)          1424      \n",
            "                                                                 \n",
            " max_pooling1d_1 (MaxPooling  (None, 884, 16)          0         \n",
            " 1D)                                                             \n",
            "                                                                 \n",
            " dropout_1 (Dropout)         (None, 884, 16)           0         \n",
            "                                                                 \n",
            " conv1d_2 (Conv1D)           (None, 876, 32)           4640      \n",
            "                                                                 \n",
            " max_pooling1d_2 (MaxPooling  (None, 292, 32)          0         \n",
            " 1D)                                                             \n",
            "                                                                 \n",
            " dropout_2 (Dropout)         (None, 292, 32)           0         \n",
            "                                                                 \n",
            " conv1d_3 (Conv1D)           (None, 286, 64)           14400     \n",
            "                                                                 \n",
            " max_pooling1d_3 (MaxPooling  (None, 95, 64)           0         \n",
            " 1D)                                                             \n",
            "                                                                 \n",
            " dropout_3 (Dropout)         (None, 95, 64)            0         \n",
            "                                                                 \n",
            " flatten (Flatten)           (None, 6080)              0         \n",
            "                                                                 \n",
            " dense (Dense)               (None, 256)               1556736   \n",
            "                                                                 \n",
            " dropout_4 (Dropout)         (None, 256)               0         \n",
            "                                                                 \n",
            " dense_1 (Dense)             (None, 128)               32896     \n",
            "                                                                 \n",
            " dropout_5 (Dropout)         (None, 128)               0         \n",
            "                                                                 \n",
            " dense_2 (Dense)             (None, 5)                 645       \n",
            "                                                                 \n",
            "=================================================================\n",
            "Total params: 1,610,853\n",
            "Trainable params: 1,610,853\n",
            "Non-trainable params: 0\n",
            "_________________________________________________________________\n"
          ]
        }
      ]
    },
    {
      "cell_type": "code",
      "source": [
        "snapshot_folder='model'\n",
        "es = EarlyStopping(monitor='val_loss', mode='min', verbose=1, patience=30, min_delta=0.0001) \n",
        "mc = ModelCheckpoint(snapshot_folder+'/best_model.hdf5', monitor='val_accuracy', verbose=1, save_best_only=True, mode='max')\n"
      ],
      "metadata": {
        "id": "wY1ic8gz2jIa"
      },
      "execution_count": null,
      "outputs": []
    },
    {
      "cell_type": "code",
      "source": [
        "!mkdir model"
      ],
      "metadata": {
        "id": "FGxC8gSz4WSU"
      },
      "execution_count": null,
      "outputs": []
    },
    {
      "cell_type": "markdown",
      "source": [],
      "metadata": {
        "id": "ASD1LrMY4V-B"
      }
    },
    {
      "cell_type": "code",
      "source": [
        "history= model.fit(x_tr, y_tr ,epochs=10, callbacks=[es,mc], batch_size=bs, validation_data=(x_val,y_val))\n"
      ],
      "metadata": {
        "colab": {
          "base_uri": "https://localhost:8080/"
        },
        "id": "N8J4nauI25Uo",
        "outputId": "f601eed4-deb8-42bf-f2f1-27815a4eb22f"
      },
      "execution_count": null,
      "outputs": [
        {
          "output_type": "stream",
          "name": "stdout",
          "text": [
            "Epoch 1/10\n",
            "4/4 [==============================] - ETA: 0s - loss: 0.3086 - accuracy: 0.8785\n",
            "Epoch 1: val_accuracy improved from -inf to 0.62963, saving model to model/best_model.hdf5\n",
            "4/4 [==============================] - 2s 481ms/step - loss: 0.3086 - accuracy: 0.8785 - val_loss: 2.3445 - val_accuracy: 0.6296\n",
            "Epoch 2/10\n",
            "4/4 [==============================] - ETA: 0s - loss: 0.2565 - accuracy: 0.9065\n",
            "Epoch 2: val_accuracy did not improve from 0.62963\n",
            "4/4 [==============================] - 2s 424ms/step - loss: 0.2565 - accuracy: 0.9065 - val_loss: 2.4067 - val_accuracy: 0.4815\n",
            "Epoch 3/10\n",
            "4/4 [==============================] - ETA: 0s - loss: 0.3707 - accuracy: 0.8598\n",
            "Epoch 3: val_accuracy did not improve from 0.62963\n",
            "4/4 [==============================] - 1s 258ms/step - loss: 0.3707 - accuracy: 0.8598 - val_loss: 2.3372 - val_accuracy: 0.4815\n",
            "Epoch 4/10\n",
            "4/4 [==============================] - ETA: 0s - loss: 0.2796 - accuracy: 0.8879\n",
            "Epoch 4: val_accuracy did not improve from 0.62963\n",
            "4/4 [==============================] - 1s 233ms/step - loss: 0.2796 - accuracy: 0.8879 - val_loss: 2.3656 - val_accuracy: 0.5185\n",
            "Epoch 5/10\n",
            "4/4 [==============================] - ETA: 0s - loss: 0.2345 - accuracy: 0.8972\n",
            "Epoch 5: val_accuracy did not improve from 0.62963\n",
            "4/4 [==============================] - 1s 211ms/step - loss: 0.2345 - accuracy: 0.8972 - val_loss: 2.5632 - val_accuracy: 0.6296\n",
            "Epoch 6/10\n",
            "4/4 [==============================] - ETA: 0s - loss: 0.2979 - accuracy: 0.8785\n",
            "Epoch 6: val_accuracy did not improve from 0.62963\n",
            "4/4 [==============================] - 1s 209ms/step - loss: 0.2979 - accuracy: 0.8785 - val_loss: 2.5803 - val_accuracy: 0.5926\n",
            "Epoch 7/10\n",
            "4/4 [==============================] - ETA: 0s - loss: 0.2406 - accuracy: 0.9346\n",
            "Epoch 7: val_accuracy did not improve from 0.62963\n",
            "4/4 [==============================] - 1s 216ms/step - loss: 0.2406 - accuracy: 0.9346 - val_loss: 2.8521 - val_accuracy: 0.5556\n",
            "Epoch 8/10\n",
            "4/4 [==============================] - ETA: 0s - loss: 0.3436 - accuracy: 0.8785\n",
            "Epoch 8: val_accuracy did not improve from 0.62963\n",
            "4/4 [==============================] - 1s 218ms/step - loss: 0.3436 - accuracy: 0.8785 - val_loss: 2.7658 - val_accuracy: 0.5926\n",
            "Epoch 9/10\n",
            "4/4 [==============================] - ETA: 0s - loss: 0.2746 - accuracy: 0.9159\n",
            "Epoch 9: val_accuracy did not improve from 0.62963\n",
            "4/4 [==============================] - 1s 215ms/step - loss: 0.2746 - accuracy: 0.9159 - val_loss: 2.6634 - val_accuracy: 0.5185\n",
            "Epoch 10/10\n",
            "4/4 [==============================] - ETA: 0s - loss: 0.2386 - accuracy: 0.9252\n",
            "Epoch 10: val_accuracy did not improve from 0.62963\n",
            "4/4 [==============================] - 1s 216ms/step - loss: 0.2386 - accuracy: 0.9252 - val_loss: 2.7504 - val_accuracy: 0.5556\n"
          ]
        }
      ]
    },
    {
      "cell_type": "code",
      "source": [
        "from matplotlib import pyplot as plt\n",
        "plt.plot(history.history['loss'], label='train') \n",
        "plt.plot(history.history['val_loss'], label='test') \n",
        "plt.legend() \n",
        "plt.show()"
      ],
      "metadata": {
        "colab": {
          "base_uri": "https://localhost:8080/",
          "height": 265
        },
        "id": "eNBDCgbH5Oc5",
        "outputId": "01fd6244-ee58-4616-f696-8509505bb365"
      },
      "execution_count": null,
      "outputs": [
        {
          "output_type": "display_data",
          "data": {
            "text/plain": [
              "<Figure size 432x288 with 1 Axes>"
            ],
            "image/png": "[encoded data removed]"
          },
          "metadata": {
            "needs_background": "light"
          }
        }
      ]
    },
    {
      "cell_type": "code",
      "source": [
        "from tensorflow import keras\n",
        "def predict(audio):\n",
        "    model=keras.models.load_model('/content/model/best_model.hdf5')\n",
        "    prob=model.predict(audio.reshape(1,sample_r,1))\n",
        "    index=np.argmax(prob[0])\n",
        "    return classes[index]"
      ],
      "metadata": {
        "id": "hT4ZYL6b5YsM"
      },
      "execution_count": null,
      "outputs": []
    },
    {
      "cell_type": "code",
      "source": [
        "import random\n",
        "index=random.randint(0,len(x_val)-1)\n",
        "samples=x_val[index].ravel()\n",
        "print(\"Audio:\",classes[np.argmax(y_val[index])])\n",
        "ipd.Audio(samples, rate=sample_r)\n",
        "print(\"Text:\",predict(samples))"
      ],
      "metadata": {
        "colab": {
          "base_uri": "https://localhost:8080/"
        },
        "id": "LO0NZV565pDM",
        "outputId": "1120a529-9af0-4d7d-ee4f-7538b2704477"
      },
      "execution_count": null,
      "outputs": [
        {
          "output_type": "stream",
          "name": "stdout",
          "text": [
            "Audio: dog\n",
            "1/1 [==============================] - 0s 139ms/step\n",
            "Text: cat\n"
          ]
        }
      ]
    }
  ]
}