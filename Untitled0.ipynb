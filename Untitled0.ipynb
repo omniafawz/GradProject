{
  "nbformat": 4,
  "nbformat_minor": 0,
  "metadata": {
    "colab": {
      "provenance": [],
      "mount_file_id": "1dQQQF8vbuVFEUAWPqhov_4Jh9Y7wljC_",
      "authorship_tag": "ABX9TyNlyF+s6eqCQRttdzmqcgxc",
      "include_colab_link": true
    },
    "kernelspec": {
      "name": "python3",
      "display_name": "Python 3"
    },
    "language_info": {
      "name": "python"
    },
    "gpuClass": "standard"
  },
  "cells": [
    {
      "cell_type": "markdown",
      "metadata": {
        "id": "view-in-github",
        "colab_type": "text"
      },
      "source": [
        "<a href=\"https://colab.research.google.com/github/omniafawz/GradProject/blob/main/Untitled0.ipynb\" target=\"_parent\"><img src=\"https://colab.research.google.com/assets/colab-badge.svg\" alt=\"Open In Colab\"/></a>"
      ]
    },
    {
      "cell_type": "code",
      "execution_count": 1,
      "metadata": {
        "id": "1WeUQhbdMMiD"
      },
      "outputs": [],
      "source": [
        "import os\n",
        "import sys\n",
        "import numpy as np\n",
        "import warnings\n",
        "import librosa #for audio processing\n",
        "import IPython. display as ipd\n",
        "from keras.utils import np_utils\n",
        "import matplotlib. pyplot as plt\n",
        "from IPython.display import Audio\n",
        "from scipy. io import wavfile #for audio processing\n",
        "from sklearn.preprocessing import LabelEncoder\n",
        "from sklearn.model_selection import train_test_split\n",
        "from keras.layers import Dense, Dropout, Flatten, Conv1D, Input, MaxPooling1D\n",
        "from keras.models import Model\n",
        "from keras.callbacks import EarlyStopping, ModelCheckpoint\n",
        "from keras import backend as K\n",
        "K.clear_session()\n",
        "np.random.seed(1)\n",
        "\n",
        "warnings. filterwarnings(\"ignore\")\n",
        "\n",
        "sample_r = 8000\n",
        "bs = 32\n",
        "\n",
        "snapshot_folder ='weights'"
      ]
    },
    {
      "cell_type": "code",
      "source": [
        "def progressBar(value, endvalue, bar_length=20,job='Job'):\n",
        "\n",
        "    percent = float(value) / endvalue\n",
        "    arrow = '-' * int(round(percent * bar_length)-1) + '>'\n",
        "    spaces = ' ' * (bar_length - len(arrow))\n",
        "\n",
        "    sys.stdout.write(\"\\r{0} Completion: [{1}] {2}%\".format(job,arrow + spaces, int(round(percent * 100))))\n",
        "    sys.stdout.flush()"
      ],
      "metadata": {
        "id": "K9iFx-_EWDPw"
      },
      "execution_count": 2,
      "outputs": []
    },
    {
      "cell_type": "code",
      "source": [
        "from google.colab import drive\n",
        "drive.mount('/content/drive')"
      ],
      "metadata": {
        "colab": {
          "base_uri": "https://localhost:8080/"
        },
        "id": "61TtiwiLWraE",
        "outputId": "e98bc8fa-4163-43e5-e0f3-e4af968fecb9"
      },
      "execution_count": 3,
      "outputs": [
        {
          "output_type": "stream",
          "name": "stdout",
          "text": [
            "Drive already mounted at /content/drive; to attempt to forcibly remount, call drive.mount(\"/content/drive\", force_remount=True).\n"
          ]
        }
      ]
    },
    {
      "cell_type": "code",
      "source": [
        "train_audio_path = 'train/audio'\n",
        "labels=os. listdir(train_audio_path)\n",
        "#find count of each label and plot bar graph\n",
        "no_of_recordings=[]\n",
        "for label in labels:\n",
        "    waves = [ f for f in os. listdir(train_audio_path + '/' + label) if f. endswith('.wav' )]\n",
        "    no_of_recordings. append(len(waves))\n",
        "\n",
        "# ploting the class distribution\n",
        "plt. figure(figsize=(30, 5))\n",
        "index = np. arange(len(labels))\n",
        "plt. bar(index, no_of_recordings)\n",
        "plt. xlabel('Commands' , fontsize=12)\n",
        "plt. ylabel('No of recordings' , fontsize=12)\n",
        "plt. xticks(index, labels, fontsize=15, rotation=60)\n",
        "plt. title('No. of recordings for each command' )\n",
        "plt. show()\n",
        "labels=[ \"yes\", \"no\", \"up\", \"down\", \"left\", \"right\", \"on\", \"off\", \"stop\", \"go\"]"
      ],
      "metadata": {
        "colab": {
          "base_uri": "https://localhost:8080/",
          "height": 496
        },
        "id": "Sipp6IAx-CO7",
        "outputId": "bde84ffa-dd30-4b68-fe7a-0a4dede597ac"
      },
      "execution_count": 5,
      "outputs": [
        {
          "output_type": "display_data",
          "data": {
            "text/plain": [
              "<Figure size 2160x360 with 1 Axes>"
            ],
            "image/png": "[encoded data removed]"
          },
          "metadata": {
            "needs_background": "light"
          }
        }
      ]
    },
    {
      "cell_type": "code",
      "source": [
        "train_audio_path = 'train/audio'\n",
        "labels=os. listdir(train_audio_path)\n",
        "duration_of_recordings=[]\n",
        "for label in labels:\n",
        "    waves = [ f for f in os. listdir(train_audio_path + '/' + label) if f. endswith('.wav' )]\n",
        "    for wav in waves:\n",
        "        sample_rate, samples = wavfile. read(train_audio_path + '/' + label + '/' + wav)\n",
        "        duration_of_recordings.append(float(len(samples) /sample_rate))\n",
        "\n",
        "len_train = len(duration_of_recordings)\n",
        "plt.title('Durations')\n",
        "plt.hist(np.array(duration_of_recordings))\n"
      ],
      "metadata": {
        "colab": {
          "base_uri": "https://localhost:8080/",
          "height": 350
        },
        "id": "D6yZgH5z4Sm-",
        "outputId": "569c9a7a-f69d-4696-f77c-8b9b2c0525a6"
      },
      "execution_count": 17,
      "outputs": [
        {
          "output_type": "execute_result",
          "data": {
            "text/plain": [
              "(array([  1.,   1.,   0.,   0.,   3.,   1.,   1.,   2.,   4., 134.]),\n",
              " array([0.64 , 0.676, 0.712, 0.748, 0.784, 0.82 , 0.856, 0.892, 0.928,\n",
              "        0.964, 1.   ]),\n",
              " <BarContainer object of 10 artists>)"
            ]
          },
          "metadata": {},
          "execution_count": 17
        },
        {
          "output_type": "display_data",
          "data": {
            "text/plain": [
              "<Figure size 432x288 with 1 Axes>"
            ],
            "image/png": "[encoded data removed]"
          },
          "metadata": {
            "needs_background": "light"
          }
        }
      ]
    },
    {
      "cell_type": "code",
      "source": [],
      "metadata": {
        "id": "MbxIzv324enV"
      },
      "execution_count": null,
      "outputs": []
    },
    {
      "cell_type": "code",
      "source": [
        "train_audio_path = 'train/audio'\n",
        "labels=os. listdir(train_audio_path)\n",
        "def read_data(train_audio_path):\n",
        "    i =0 \n",
        "    all_wave = []\n",
        "    all_label = []\n",
        "    for label in labels:\n",
        "        i+=1\n",
        "        progressBar(i, len(labels), bar_length=20,job='Resampling, Removing shorter commands')\n",
        "        waves = [f for f in os.listdir(train_audio_path + '/'+ label) if f.endswith('.wav')]\n",
        "        for wav in waves:\n",
        "            samples, sample_rate = librosa.load(train_audio_path + '/' + label + '/' + wav, sr = 16000)\n",
        "            samples = librosa.resample(samples, sample_rate, sample_r)\n",
        "            if(len(samples)== sample_r) : \n",
        "                all_wave.append(samples)\n",
        "                all_label.append(label)\n",
        "                \n",
        "    return all_wave, all_label\n",
        "\n",
        "all_wave, all_label = read_data(train_audio_path)"
      ],
      "metadata": {
        "colab": {
          "base_uri": "https://localhost:8080/"
        },
        "id": "NeMxGB3Z4men",
        "outputId": "229b14c1-884a-4bba-82ba-874a912d70b7"
      },
      "execution_count": 16,
      "outputs": [
        {
          "output_type": "stream",
          "name": "stdout",
          "text": [
            "Resampling, Removing shorter commands Completion: [------------------->] 100%"
          ]
        }
      ]
    },
    {
      "cell_type": "code",
      "source": [
        "\n",
        "!cp -r /content/drive/MyDrive/ColabNotebooks/train /content\n",
        "train_audio_path = 'train/audio'\n",
        "labels=os. listdir(train_audio_path)"
      ],
      "metadata": {
        "id": "HNImCd5glXhp"
      },
      "execution_count": 4,
      "outputs": []
    },
    {
      "cell_type": "code",
      "source": [
        "print(labels)"
      ],
      "metadata": {
        "colab": {
          "base_uri": "https://localhost:8080/"
        },
        "id": "ga1gjs76pHXe",
        "outputId": "2f481f5b-2c68-4221-cff1-573cad8056cf"
      },
      "execution_count": 18,
      "outputs": [
        {
          "output_type": "stream",
          "name": "stdout",
          "text": [
            "['.ipynb_checkpoints', 'bird', 'cat', 'bed', 'dog']\n"
          ]
        }
      ]
    },
    {
      "cell_type": "code",
      "source": [
        "def read_data(train_audio_path):\n",
        "    i =0 \n",
        "    all_wave = []\n",
        "    all_label = []\n",
        "    for label in labels:\n",
        "        i+=1\n",
        "        progressBar(i, len(labels), bar_length=20,job='Resampling, Removing shorter commands')\n",
        "        waves = [f for f in os.listdir(train_audio_path + '/'+ label) if f.endswith('.wav')]\n",
        "        for wav in waves:\n",
        "            samples, sample_rate = librosa.load(train_audio_path + '/' + label + '/' + wav, sr = 16000)\n",
        "            samples = librosa.resample(samples, sample_rate, sample_r)\n",
        "            if(len(samples)== sample_r) : \n",
        "                all_wave.append(samples)\n",
        "                all_label.append(label)\n",
        "                \n",
        "    return all_wave, all_label\n",
        "\n",
        "all_wave, all_label = read_data(train_audio_path)"
      ],
      "metadata": {
        "colab": {
          "base_uri": "https://localhost:8080/"
        },
        "id": "sdMYImvbr2t7",
        "outputId": "b2bbf94b-7840-472f-d56f-7035c9e858dc"
      },
      "execution_count": 22,
      "outputs": [
        {
          "output_type": "stream",
          "name": "stdout",
          "text": [
            "Resampling, Removing shorter commands Completion: [------------------->] 100%"
          ]
        }
      ]
    },
    {
      "cell_type": "code",
      "source": [
        "le = LabelEncoder()\n",
        "y=le.fit_transform(all_label)\n",
        "classes= list(le.classes_)\n",
        "classes"
      ],
      "metadata": {
        "colab": {
          "base_uri": "https://localhost:8080/"
        },
        "id": "3Nw8ElTEsGPy",
        "outputId": "c53a7dcd-b652-4821-dbd5-be8951569049"
      },
      "execution_count": 23,
      "outputs": [
        {
          "output_type": "execute_result",
          "data": {
            "text/plain": [
              "['bed', 'bird', 'cat', 'dog']"
            ]
          },
          "metadata": {},
          "execution_count": 23
        }
      ]
    },
    {
      "cell_type": "code",
      "source": [
        "y=np_utils.to_categorical(y, num_classes=len(labels))"
      ],
      "metadata": {
        "id": "ons0YH_0sVQ6"
      },
      "execution_count": 24,
      "outputs": []
    },
    {
      "cell_type": "code",
      "source": [
        "x_tr, x_val, y_tr, y_val = train_test_split(np.array(all_wave),np.array(y),\n",
        "                                            stratify=y, test_size = 0.2, random_state=1, shuffle=True)"
      ],
      "metadata": {
        "id": "pBMWErLy5GGP"
      },
      "execution_count": 25,
      "outputs": []
    },
    {
      "cell_type": "code",
      "source": [
        "x_tr = np.array(x_tr).reshape(-1,sample_r,1)\n",
        "x_val = np.array(x_val).reshape(-1,sample_r,1)"
      ],
      "metadata": {
        "id": "4NXNiwe85KNO"
      },
      "execution_count": 26,
      "outputs": []
    },
    {
      "cell_type": "code",
      "source": [
        "def make_model():\n",
        "    inputs = Input(shape=(sample_r,1))\n",
        "\n",
        "    #First Conv1D layer\n",
        "    conv = Conv1D(8,13, padding='valid', activation='relu', strides=1)(inputs)\n",
        "    conv = MaxPooling1D(3)(conv)\n",
        "    conv = Dropout(0.3)(conv)\n",
        "\n",
        "    #Second Conv1D layer\n",
        "    conv = Conv1D(16, 11, padding='valid', activation='relu', strides=1)(conv)\n",
        "    conv = MaxPooling1D(3)(conv)\n",
        "    conv = Dropout(0.3)(conv)\n",
        "\n",
        "    #Third Conv1D layer\n",
        "    conv = Conv1D(32, 9, padding='valid', activation='relu', strides=1)(conv)\n",
        "    conv = MaxPooling1D(3)(conv)\n",
        "    conv = Dropout(0.3)(conv)\n",
        "\n",
        "    #Fourth Conv1D layer\n",
        "    conv = Conv1D(64, 7, padding='valid', activation='relu', strides=1)(conv)\n",
        "    conv = MaxPooling1D(3)(conv)\n",
        "    conv = Dropout(0.3)(conv)\n",
        "\n",
        "    #Flatten layer\n",
        "    conv = Flatten()(conv)\n",
        "\n",
        "    #Dense Layer 1\n",
        "    conv = Dense(256, activation='relu')(conv)\n",
        "    conv = Dropout(0.3)(conv)\n",
        "\n",
        "    #Dense Layer 2\n",
        "    conv = Dense(128, activation='relu')(conv)\n",
        "    conv = Dropout(0.3)(conv)\n",
        "\n",
        "    outputs = Dense(len(labels), activation='softmax')(conv)\n",
        "\n",
        "    model = Model(inputs, outputs)\n",
        "    model.summary()\n",
        "    return model\n"
      ],
      "metadata": {
        "id": "9ZppeKXf2V8a"
      },
      "execution_count": 28,
      "outputs": []
    },
    {
      "cell_type": "code",
      "source": [
        "model = make_model()\n",
        "model.compile(loss='categorical_crossentropy',optimizer='adam',metrics=['accuracy'])"
      ],
      "metadata": {
        "colab": {
          "base_uri": "https://localhost:8080/"
        },
        "id": "xTdbPRBG2d7v",
        "outputId": "457a2504-6340-4ed0-9296-db378af813d9"
      },
      "execution_count": 29,
      "outputs": [
        {
          "output_type": "stream",
          "name": "stdout",
          "text": [
            "Model: \"model\"\n",
            "_________________________________________________________________\n",
            " Layer (type)                Output Shape              Param #   \n",
            "=================================================================\n",
            " input_1 (InputLayer)        [(None, 8000, 1)]         0         \n",
            "                                                                 \n",
            " conv1d (Conv1D)             (None, 7988, 8)           112       \n",
            "                                                                 \n",
            " max_pooling1d (MaxPooling1D  (None, 2662, 8)          0         \n",
            " )                                                               \n",
            "                                                                 \n",
            " dropout (Dropout)           (None, 2662, 8)           0         \n",
            "                                                                 \n",
            " conv1d_1 (Conv1D)           (None, 2652, 16)          1424      \n",
            "                                                                 \n",
            " max_pooling1d_1 (MaxPooling  (None, 884, 16)          0         \n",
            " 1D)                                                             \n",
            "                                                                 \n",
            " dropout_1 (Dropout)         (None, 884, 16)           0         \n",
            "                                                                 \n",
            " conv1d_2 (Conv1D)           (None, 876, 32)           4640      \n",
            "                                                                 \n",
            " max_pooling1d_2 (MaxPooling  (None, 292, 32)          0         \n",
            " 1D)                                                             \n",
            "                                                                 \n",
            " dropout_2 (Dropout)         (None, 292, 32)           0         \n",
            "                                                                 \n",
            " conv1d_3 (Conv1D)           (None, 286, 64)           14400     \n",
            "                                                                 \n",
            " max_pooling1d_3 (MaxPooling  (None, 95, 64)           0         \n",
            " 1D)                                                             \n",
            "                                                                 \n",
            " dropout_3 (Dropout)         (None, 95, 64)            0         \n",
            "                                                                 \n",
            " flatten (Flatten)           (None, 6080)              0         \n",
            "                                                                 \n",
            " dense (Dense)               (None, 256)               1556736   \n",
            "                                                                 \n",
            " dropout_4 (Dropout)         (None, 256)               0         \n",
            "                                                                 \n",
            " dense_1 (Dense)             (None, 128)               32896     \n",
            "                                                                 \n",
            " dropout_5 (Dropout)         (None, 128)               0         \n",
            "                                                                 \n",
            " dense_2 (Dense)             (None, 5)                 645       \n",
            "                                                                 \n",
            "=================================================================\n",
            "Total params: 1,610,853\n",
            "Trainable params: 1,610,853\n",
            "Non-trainable params: 0\n",
            "_________________________________________________________________\n"
          ]
        }
      ]
    },
    {
      "cell_type": "code",
      "source": [
        "snapshot_folder='model'\n",
        "es = EarlyStopping(monitor='val_loss', mode='min', verbose=1, patience=30, min_delta=0.0001) \n",
        "mc = ModelCheckpoint(snapshot_folder+'/best_model.hdf5', monitor='val_accuracy', verbose=1, save_best_only=True, mode='max')\n"
      ],
      "metadata": {
        "id": "wY1ic8gz2jIa"
      },
      "execution_count": 31,
      "outputs": []
    },
    {
      "cell_type": "code",
      "source": [
        "!mkdir model"
      ],
      "metadata": {
        "id": "FGxC8gSz4WSU"
      },
      "execution_count": 30,
      "outputs": []
    },
    {
      "cell_type": "markdown",
      "source": [],
      "metadata": {
        "id": "ASD1LrMY4V-B"
      }
    },
    {
      "cell_type": "code",
      "source": [
        "history= model.fit(x_tr, y_tr ,epochs=10, callbacks=[es,mc], batch_size=bs, validation_data=(x_val,y_val))\n"
      ],
      "metadata": {
        "colab": {
          "base_uri": "https://localhost:8080/"
        },
        "id": "N8J4nauI25Uo",
        "outputId": "00a2bc74-42b3-4c2a-9201-fe93e6e17e27"
      },
      "execution_count": 32,
      "outputs": [
        {
          "output_type": "stream",
          "name": "stdout",
          "text": [
            "Epoch 1/10\n",
            "4/4 [==============================] - ETA: 0s - loss: 1.5858 - accuracy: 0.2617\n",
            "Epoch 1: val_accuracy improved from -inf to 0.40741, saving model to model/best_model.hdf5\n",
            "4/4 [==============================] - 4s 305ms/step - loss: 1.5858 - accuracy: 0.2617 - val_loss: 1.5285 - val_accuracy: 0.4074\n",
            "Epoch 2/10\n",
            "4/4 [==============================] - ETA: 0s - loss: 1.4621 - accuracy: 0.3832\n",
            "Epoch 2: val_accuracy did not improve from 0.40741\n",
            "4/4 [==============================] - 1s 167ms/step - loss: 1.4621 - accuracy: 0.3832 - val_loss: 1.4572 - val_accuracy: 0.4074\n",
            "Epoch 3/10\n",
            "4/4 [==============================] - ETA: 0s - loss: 1.3229 - accuracy: 0.3832\n",
            "Epoch 3: val_accuracy did not improve from 0.40741\n",
            "4/4 [==============================] - 1s 165ms/step - loss: 1.3229 - accuracy: 0.3832 - val_loss: 1.4422 - val_accuracy: 0.4074\n",
            "Epoch 4/10\n",
            "4/4 [==============================] - ETA: 0s - loss: 1.3060 - accuracy: 0.3832\n",
            "Epoch 4: val_accuracy did not improve from 0.40741\n",
            "4/4 [==============================] - 1s 172ms/step - loss: 1.3060 - accuracy: 0.3832 - val_loss: 1.4098 - val_accuracy: 0.4074\n",
            "Epoch 5/10\n",
            "4/4 [==============================] - ETA: 0s - loss: 1.3107 - accuracy: 0.3645\n",
            "Epoch 5: val_accuracy did not improve from 0.40741\n",
            "4/4 [==============================] - 1s 161ms/step - loss: 1.3107 - accuracy: 0.3645 - val_loss: 1.4066 - val_accuracy: 0.3704\n",
            "Epoch 6/10\n",
            "4/4 [==============================] - ETA: 0s - loss: 1.3168 - accuracy: 0.3925\n",
            "Epoch 6: val_accuracy did not improve from 0.40741\n",
            "4/4 [==============================] - 1s 161ms/step - loss: 1.3168 - accuracy: 0.3925 - val_loss: 1.4187 - val_accuracy: 0.3333\n",
            "Epoch 7/10\n",
            "4/4 [==============================] - ETA: 0s - loss: 1.1958 - accuracy: 0.4860\n",
            "Epoch 7: val_accuracy did not improve from 0.40741\n",
            "4/4 [==============================] - 1s 165ms/step - loss: 1.1958 - accuracy: 0.4860 - val_loss: 1.4057 - val_accuracy: 0.2963\n",
            "Epoch 8/10\n",
            "4/4 [==============================] - ETA: 0s - loss: 1.2026 - accuracy: 0.4393\n",
            "Epoch 8: val_accuracy did not improve from 0.40741\n",
            "4/4 [==============================] - 1s 157ms/step - loss: 1.2026 - accuracy: 0.4393 - val_loss: 1.3877 - val_accuracy: 0.3333\n",
            "Epoch 9/10\n",
            "4/4 [==============================] - ETA: 0s - loss: 1.2384 - accuracy: 0.4299\n",
            "Epoch 9: val_accuracy did not improve from 0.40741\n",
            "4/4 [==============================] - 1s 160ms/step - loss: 1.2384 - accuracy: 0.4299 - val_loss: 1.3988 - val_accuracy: 0.4074\n",
            "Epoch 10/10\n",
            "4/4 [==============================] - ETA: 0s - loss: 1.1934 - accuracy: 0.4860\n",
            "Epoch 10: val_accuracy did not improve from 0.40741\n",
            "4/4 [==============================] - 1s 167ms/step - loss: 1.1934 - accuracy: 0.4860 - val_loss: 1.3999 - val_accuracy: 0.3704\n"
          ]
        }
      ]
    },
    {
      "cell_type": "code",
      "source": [
        "from matplotlib import pyplot as plt\n",
        "plt.plot(history.history['loss'], label='train') \n",
        "plt.plot(history.history['val_loss'], label='test') \n",
        "plt.legend() \n",
        "plt.show()"
      ],
      "metadata": {
        "colab": {
          "base_uri": "https://localhost:8080/",
          "height": 265
        },
        "id": "eNBDCgbH5Oc5",
        "outputId": "01fd6244-ee58-4616-f696-8509505bb365"
      },
      "execution_count": null,
      "outputs": [
        {
          "output_type": "display_data",
          "data": {
            "text/plain": [
              "<Figure size 432x288 with 1 Axes>"
            ],
            "image/png": "[encoded data removed]"
          },
          "metadata": {
            "needs_background": "light"
          }
        }
      ]
    },
    {
      "cell_type": "code",
      "source": [
        "from tensorflow import keras\n",
        "def predict(audio):\n",
        "    model=keras.models.load_model('/content/model/best_model.hdf5')\n",
        "    prob=model.predict(audio.reshape(1,sample_r,1))\n",
        "    index=np.argmax(prob[0])\n",
        "    return classes[index]"
      ],
      "metadata": {
        "id": "hT4ZYL6b5YsM"
      },
      "execution_count": null,
      "outputs": []
    },
    {
      "cell_type": "code",
      "source": [
        "import random\n",
        "index=random.randint(0,len(x_val)-1)\n",
        "samples=x_val[index].ravel()\n",
        "print(\"Audio:\",classes[np.argmax(y_val[index])])\n",
        "ipd.Audio(samples, rate=sample_r)\n",
        "print(\"Text:\",predict(samples))"
      ],
      "metadata": {
        "colab": {
          "base_uri": "https://localhost:8080/"
        },
        "id": "LO0NZV565pDM",
        "outputId": "1120a529-9af0-4d7d-ee4f-7538b2704477"
      },
      "execution_count": null,
      "outputs": [
        {
          "output_type": "stream",
          "name": "stdout",
          "text": [
            "Audio: dog\n",
            "1/1 [==============================] - 0s 139ms/step\n",
            "Text: cat\n"
          ]
        }
      ]
    }
  ]
}